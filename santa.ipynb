{
 "cells": [
  {
   "cell_type": "code",
   "execution_count": null,
   "metadata": {},
   "outputs": [],
   "source": [
    "import numpy as np\n",
    "import random\n",
    "import pandas as pd\n",
    "import unidecode\n",
    "import getpass\n",
    "import smtplib\n",
    "from string import Template\n",
    "from email.mime.multipart import MIMEMultipart\n",
    "from email.mime.text import MIMEText"
   ]
  },
  {
   "cell_type": "code",
   "execution_count": null,
   "metadata": {},
   "outputs": [],
   "source": [
    "def mail_formating(string):\n",
    "    string = unidecode.unidecode(string)\n",
    "    string = string.lower()\n",
    "    return string"
   ]
  },
  {
   "cell_type": "code",
   "execution_count": null,
   "metadata": {},
   "outputs": [],
   "source": [
    "def load_mail_template(language):\n",
    "    file_name = language + '_mail_template.txt'\n",
    "    with open(file_name, mode='r', encoding='utf-8') as file:\n",
    "        mail = Template(file.read())\n",
    "    return mail "
   ]
  },
  {
   "cell_type": "code",
   "execution_count": null,
   "metadata": {},
   "outputs": [],
   "source": [
    "def random_derangement(n):\n",
    "    while True:\n",
    "        v = np.arange(n)\n",
    "        for j in range(n - 1, -1, -1):\n",
    "            p = random.randint(0, j)\n",
    "            if v[p] == j:\n",
    "                break\n",
    "            else:\n",
    "                v[j], v[p] = v[p], v[j]\n",
    "        else:\n",
    "            if v[0] != 0:\n",
    "                return v"
   ]
  },
  {
   "cell_type": "code",
   "execution_count": null,
   "metadata": {},
   "outputs": [],
   "source": [
    "name_list = pd.read_csv(\"name_list.csv\", header=0)"
   ]
  },
  {
   "cell_type": "code",
   "execution_count": null,
   "metadata": {},
   "outputs": [],
   "source": [
    "name_list['Email address'] = name_list.apply(lambda row: mail_formating(row['First name']) + '.' +\n",
    "                                                       mail_formating(row['Last name']) + '@lip6.fr', axis=1)"
   ]
  },
  {
   "cell_type": "code",
   "execution_count": null,
   "metadata": {},
   "outputs": [],
   "source": [
    "random.seed(0)\n",
    "der = random_derangement(len(name_list))\n",
    "name_list['To'] = name_list['First name'].iloc[der].reset_index(drop=True)"
   ]
  },
  {
   "cell_type": "code",
   "execution_count": null,
   "metadata": {},
   "outputs": [],
   "source": [
    "fr_mail_subject = '[Secret Santa] Tu dois faire un cadeau à...'\n",
    "en_mail_subject = '[Secret Santa] You must give a present to...'"
   ]
  },
  {
   "cell_type": "code",
   "execution_count": null,
   "metadata": {},
   "outputs": [],
   "source": [
    "fr_mail = load_mail_template('fr')\n",
    "en_mail = load_mail_template('en')"
   ]
  },
  {
   "cell_type": "code",
   "execution_count": null,
   "metadata": {},
   "outputs": [],
   "source": [
    "user_email = input('Enter your email address: ')\n",
    "user_password = getpass.getpass(\"Enter your e-mail password: \")"
   ]
  },
  {
   "cell_type": "code",
   "execution_count": null,
   "metadata": {},
   "outputs": [],
   "source": [
    "try:\n",
    "    server = smtplib.SMTP(\"smtp.gmail.com\", 587)\n",
    "    server.ehlo()\n",
    "    server.starttls()\n",
    "    server.login(user_email, user_password)\n",
    "    print(\"Successfully connected to server\")\n",
    "except:\n",
    "    print(\"Failed to connect to server\")    "
   ]
  },
  {
   "cell_type": "code",
   "execution_count": null,
   "metadata": {},
   "outputs": [],
   "source": [
    "for index, row in name_list.iterrows():\n",
    "    #if row['First name'] != 'Marvin':\n",
    "        #continue\n",
    "    msg = MIMEMultipart() # create a message\n",
    "    \n",
    "    # setup the parameters of the message\n",
    "    msg['From'] = user_email\n",
    "    msg['To'] = row['Email address']\n",
    "    \n",
    "    # add in the actual person name to the message template\n",
    "    if row['Language'] == 'en':\n",
    "        custom_mail = en_mail.substitute(SANTA_NAME=row['First name'], RECIPIENT_NAME=row['To'])\n",
    "        msg['Subject'] = en_mail_subject\n",
    "    elif row['Language'] == 'fr':\n",
    "        custom_mail = fr_mail.substitute(SANTA_NAME=row['First name'], RECIPIENT_NAME=row['To'])\n",
    "        msg['Subject'] = fr_mail_subject\n",
    "        \n",
    "    print(msg)\n",
    "    \n",
    "    # add in the message body\n",
    "    msg.attach(MIMEText(custom_mail, 'plain'))\n",
    "        \n",
    "    # send the message via the server set up earlier.\n",
    "    #server.send_message(msg)\n",
    "    print(\"Send mail to \", row['First name'], ' ', row['Last name'])\n",
    "    del msg"
   ]
  },
  {
   "cell_type": "code",
   "execution_count": null,
   "metadata": {},
   "outputs": [],
   "source": [
    "try:\n",
    "    server.close()\n",
    "    print(\"Successfuly disconnected from server\")\n",
    "except:\n",
    "    print(\"Failed to disconnect from server\")"
   ]
  },
  {
   "cell_type": "code",
   "execution_count": null,
   "metadata": {},
   "outputs": [],
   "source": []
  }
 ],
 "metadata": {
  "kernelspec": {
   "display_name": "Python 3",
   "language": "python",
   "name": "python3"
  },
  "language_info": {
   "codemirror_mode": {
    "name": "ipython",
    "version": 3
   },
   "file_extension": ".py",
   "mimetype": "text/x-python",
   "name": "python",
   "nbconvert_exporter": "python",
   "pygments_lexer": "ipython3",
   "version": "3.7.4"
  }
 },
 "nbformat": 4,
 "nbformat_minor": 2
}
