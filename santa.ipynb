{
 "cells": [
  {
   "cell_type": "code",
   "execution_count": 1,
   "metadata": {},
   "outputs": [],
   "source": [
    "import numpy as np\n",
    "import random\n",
    "import pandas as pd\n",
    "import unidecode\n",
    "import getpass\n",
    "import smtplib\n",
    "from string import Template\n",
    "from email.mime.multipart import MIMEMultipart\n",
    "from email.mime.text import MIMEText"
   ]
  },
  {
   "cell_type": "code",
   "execution_count": 2,
   "metadata": {},
   "outputs": [],
   "source": [
    "def mail_formating(string):\n",
    "    string = unidecode.unidecode(string)\n",
    "    string = string.lower()\n",
    "    return string"
   ]
  },
  {
   "cell_type": "code",
   "execution_count": 3,
   "metadata": {},
   "outputs": [],
   "source": [
    "def load_mail_template(language):\n",
    "    file_name = language + '_mail_template.txt'\n",
    "    with open(file_name, mode='r', encoding='utf-8') as file:\n",
    "        mail = Template(file.read())\n",
    "    return mail "
   ]
  },
  {
   "cell_type": "code",
   "execution_count": 4,
   "metadata": {},
   "outputs": [],
   "source": [
    "def random_derangement(n):\n",
    "    while True:\n",
    "        v = np.arange(n)\n",
    "        for j in range(n - 1, -1, -1):\n",
    "            p = random.randint(0, j)\n",
    "            if v[p] == j:\n",
    "                break\n",
    "            else:\n",
    "                v[j], v[p] = v[p], v[j]\n",
    "        else:\n",
    "            if v[0] != 0:\n",
    "                return v"
   ]
  },
  {
   "cell_type": "code",
   "execution_count": 5,
   "metadata": {},
   "outputs": [],
   "source": [
    "name_list = pd.read_csv(\"name_list.csv\", header=0)"
   ]
  },
  {
   "cell_type": "code",
   "execution_count": 6,
   "metadata": {},
   "outputs": [],
   "source": [
    "name_list['Email address'] = name_list.apply(lambda row: mail_formating(row['First name']) + '.' +\n",
    "                                                       mail_formating(row['Last name']) + '@lip6.fr', axis=1)"
   ]
  },
  {
   "cell_type": "code",
   "execution_count": 7,
   "metadata": {},
   "outputs": [],
   "source": [
    "random.seed(0)\n",
    "der = random_derangement(len(name_list))\n",
    "name_list['To'] = name_list['First name'].iloc[der].reset_index(drop=True)"
   ]
  },
  {
   "cell_type": "code",
   "execution_count": 8,
   "metadata": {},
   "outputs": [],
   "source": [
    "fr_mail_subject = '[Secret Santa] Tu dois faire un cadeau à...'\n",
    "en_mail_subject = '[Secret Santa] You must give a present to...'"
   ]
  },
  {
   "cell_type": "code",
   "execution_count": 9,
   "metadata": {},
   "outputs": [],
   "source": [
    "fr_mail = load_mail_template('fr')\n",
    "en_mail = load_mail_template('en')"
   ]
  },
  {
   "cell_type": "code",
   "execution_count": 22,
   "metadata": {},
   "outputs": [
    {
     "name": "stdout",
     "output_type": "stream",
     "text": [
      "Enter your email address: marvin.lasserre@gmail.com\n",
      "Enter your e-mail password: ········\n"
     ]
    }
   ],
   "source": [
    "user_email = input('Enter your email address: ')\n",
    "user_password = getpass.getpass(\"Enter your e-mail password: \")"
   ]
  },
  {
   "cell_type": "code",
   "execution_count": 23,
   "metadata": {},
   "outputs": [
    {
     "name": "stdout",
     "output_type": "stream",
     "text": [
      "Successfully connected to server\n"
     ]
    }
   ],
   "source": [
    "try:\n",
    "    server = smtplib.SMTP(\"smtp.gmail.com\", 587)\n",
    "    server.ehlo()\n",
    "    server.starttls()\n",
    "    server.login(user_email, user_password)\n",
    "    print(\"Successfully connected to server\")\n",
    "except:\n",
    "    print(\"Failed to connect to server\")    "
   ]
  },
  {
   "cell_type": "code",
   "execution_count": 28,
   "metadata": {},
   "outputs": [
    {
     "name": "stdout",
     "output_type": "stream",
     "text": [
      "Content-Type: multipart/mixed; boundary=\"===============2044857532908331599==\"\n",
      "MIME-Version: 1.0\n",
      "From: marvin.lasserre@gmail.com\n",
      "To: kostantinos.dogeas@lip6.fr\n",
      "Subject: [Secret Santa] You must give a present to...\n",
      "\n",
      "--===============2044857532908331599==\n",
      "\n",
      "--===============2044857532908331599==--\n",
      "\n",
      "Send mail to  Kostantinos   Dogeas\n",
      "Content-Type: multipart/mixed; boundary=\"===============7409550268663459575==\"\n",
      "MIME-Version: 1.0\n",
      "From: marvin.lasserre@gmail.com\n",
      "To: anne-elisabeth.falq@lip6.fr\n",
      "Subject: =?utf-8?q?=5BSecret_Santa=5D_Tu_dois_faire_un_cadeau_=C3=A0=2E=2E=2E?=\n",
      "\n",
      "--===============7409550268663459575==\n",
      "\n",
      "--===============7409550268663459575==--\n",
      "\n",
      "Send mail to  Anne-Elisabeth   Falq\n",
      "Content-Type: multipart/mixed; boundary=\"===============1314278795803408338==\"\n",
      "MIME-Version: 1.0\n",
      "From: marvin.lasserre@gmail.com\n",
      "To: gaspard.ducamp@lip6.fr\n",
      "Subject: =?utf-8?q?=5BSecret_Santa=5D_Tu_dois_faire_un_cadeau_=C3=A0=2E=2E=2E?=\n",
      "\n",
      "--===============1314278795803408338==\n",
      "\n",
      "--===============1314278795803408338==--\n",
      "\n",
      "Send mail to  Gaspard   Ducamp\n",
      "Content-Type: multipart/mixed; boundary=\"===============5008198364716411773==\"\n",
      "MIME-Version: 1.0\n",
      "From: marvin.lasserre@gmail.com\n",
      "To: marvin.lasserre@lip6.fr\n",
      "Subject: =?utf-8?q?=5BSecret_Santa=5D_Tu_dois_faire_un_cadeau_=C3=A0=2E=2E=2E?=\n",
      "\n",
      "--===============5008198364716411773==\n",
      "\n",
      "--===============5008198364716411773==--\n",
      "\n",
      "Send mail to  Marvin   Lasserre\n",
      "Content-Type: multipart/mixed; boundary=\"===============0841318678563529284==\"\n",
      "MIME-Version: 1.0\n",
      "From: marvin.lasserre@gmail.com\n",
      "To: parham.shams@lip6.fr\n",
      "Subject: =?utf-8?q?=5BSecret_Santa=5D_Tu_dois_faire_un_cadeau_=C3=A0=2E=2E=2E?=\n",
      "\n",
      "--===============0841318678563529284==\n",
      "\n",
      "--===============0841318678563529284==--\n",
      "\n",
      "Send mail to  Parham   Shams\n",
      "Content-Type: multipart/mixed; boundary=\"===============9160851946324105425==\"\n",
      "MIME-Version: 1.0\n",
      "From: marvin.lasserre@gmail.com\n",
      "To: adele.pass-lanneau@lip6.fr\n",
      "Subject: =?utf-8?q?=5BSecret_Santa=5D_Tu_dois_faire_un_cadeau_=C3=A0=2E=2E=2E?=\n",
      "\n",
      "--===============9160851946324105425==\n",
      "\n",
      "--===============9160851946324105425==--\n",
      "\n",
      "Send mail to  Adèle   Pass-Lanneau\n",
      "Content-Type: multipart/mixed; boundary=\"===============8071255582292515106==\"\n",
      "MIME-Version: 1.0\n",
      "From: marvin.lasserre@gmail.com\n",
      "To: nadjet.bourdache@lip6.fr\n",
      "Subject: =?utf-8?q?=5BSecret_Santa=5D_Tu_dois_faire_un_cadeau_=C3=A0=2E=2E=2E?=\n",
      "\n",
      "--===============8071255582292515106==\n",
      "\n",
      "--===============8071255582292515106==--\n",
      "\n",
      "Send mail to  Nadjet   Bourdache\n",
      "Content-Type: multipart/mixed; boundary=\"===============9204663603876619734==\"\n",
      "MIME-Version: 1.0\n",
      "From: marvin.lasserre@gmail.com\n",
      "To: hugo.martin@lip6.fr\n",
      "Subject: =?utf-8?q?=5BSecret_Santa=5D_Tu_dois_faire_un_cadeau_=C3=A0=2E=2E=2E?=\n",
      "\n",
      "--===============9204663603876619734==\n",
      "\n",
      "--===============9204663603876619734==--\n",
      "\n",
      "Send mail to  Hugo   Martin\n",
      "Content-Type: multipart/mixed; boundary=\"===============4512874016252244619==\"\n",
      "MIME-Version: 1.0\n",
      "From: marvin.lasserre@gmail.com\n",
      "To: armando.angrisani@lip6.fr\n",
      "Subject: [Secret Santa] You must give a present to...\n",
      "\n",
      "--===============4512874016252244619==\n",
      "\n",
      "--===============4512874016252244619==--\n",
      "\n",
      "Send mail to  Armando   Angrisani\n",
      "Content-Type: multipart/mixed; boundary=\"===============2780355897101858577==\"\n",
      "MIME-Version: 1.0\n",
      "From: marvin.lasserre@gmail.com\n",
      "To: nawal.benabbou@lip6.fr\n",
      "Subject: =?utf-8?q?=5BSecret_Santa=5D_Tu_dois_faire_un_cadeau_=C3=A0=2E=2E=2E?=\n",
      "\n",
      "--===============2780355897101858577==\n",
      "\n",
      "--===============2780355897101858577==--\n",
      "\n",
      "Send mail to  Nawal   Benabbou\n",
      "Content-Type: multipart/mixed; boundary=\"===============2684837527145142711==\"\n",
      "MIME-Version: 1.0\n",
      "From: marvin.lasserre@gmail.com\n",
      "To: cassandre.leroy@lip6.fr\n",
      "Subject: =?utf-8?q?=5BSecret_Santa=5D_Tu_dois_faire_un_cadeau_=C3=A0=2E=2E=2E?=\n",
      "\n",
      "--===============2684837527145142711==\n",
      "\n",
      "--===============2684837527145142711==--\n",
      "\n",
      "Send mail to  Cassandre   Leroy\n",
      "Content-Type: multipart/mixed; boundary=\"===============1151175637795419517==\"\n",
      "MIME-Version: 1.0\n",
      "From: marvin.lasserre@gmail.com\n",
      "To: thibaut.lust@lip6.fr\n",
      "Subject: =?utf-8?q?=5BSecret_Santa=5D_Tu_dois_faire_un_cadeau_=C3=A0=2E=2E=2E?=\n",
      "\n",
      "--===============1151175637795419517==\n",
      "\n",
      "--===============1151175637795419517==--\n",
      "\n",
      "Send mail to  Thibaut   Lust\n",
      "Content-Type: multipart/mixed; boundary=\"===============3069081776923416170==\"\n",
      "MIME-Version: 1.0\n",
      "From: marvin.lasserre@gmail.com\n",
      "To: bastien.chassagnol@lip6.fr\n",
      "Subject: =?utf-8?q?=5BSecret_Santa=5D_Tu_dois_faire_un_cadeau_=C3=A0=2E=2E=2E?=\n",
      "\n",
      "--===============3069081776923416170==\n",
      "\n",
      "--===============3069081776923416170==--\n",
      "\n",
      "Send mail to  Bastien   Chassagnol\n",
      "Content-Type: multipart/mixed; boundary=\"===============8506252401890616942==\"\n",
      "MIME-Version: 1.0\n",
      "From: marvin.lasserre@gmail.com\n",
      "To: olivier.spanjaard@lip6.fr\n",
      "Subject: =?utf-8?q?=5BSecret_Santa=5D_Tu_dois_faire_un_cadeau_=C3=A0=2E=2E=2E?=\n",
      "\n",
      "--===============8506252401890616942==\n",
      "\n",
      "--===============8506252401890616942==--\n",
      "\n",
      "Send mail to  Olivier   Spanjaard\n",
      "Content-Type: multipart/mixed; boundary=\"===============1874206280119224001==\"\n",
      "MIME-Version: 1.0\n",
      "From: marvin.lasserre@gmail.com\n",
      "To: alexandre.teiller@lip6.fr\n",
      "Subject: =?utf-8?q?=5BSecret_Santa=5D_Tu_dois_faire_un_cadeau_=C3=A0=2E=2E=2E?=\n",
      "\n",
      "--===============1874206280119224001==\n",
      "\n",
      "--===============1874206280119224001==--\n",
      "\n",
      "Send mail to  Alexandre   Teiller\n",
      "Content-Type: multipart/mixed; boundary=\"===============7373413641015402354==\"\n",
      "MIME-Version: 1.0\n",
      "From: marvin.lasserre@gmail.com\n",
      "To: nicolas.maudet@lip6.fr\n",
      "Subject: =?utf-8?q?=5BSecret_Santa=5D_Tu_dois_faire_un_cadeau_=C3=A0=2E=2E=2E?=\n",
      "\n",
      "--===============7373413641015402354==\n",
      "\n",
      "--===============7373413641015402354==--\n",
      "\n",
      "Send mail to  Nicolas   Maudet\n",
      "Content-Type: multipart/mixed; boundary=\"===============5047306837111234450==\"\n",
      "MIME-Version: 1.0\n",
      "From: marvin.lasserre@gmail.com\n",
      "To: aurelie.beynier@lip6.fr\n",
      "Subject: =?utf-8?q?=5BSecret_Santa=5D_Tu_dois_faire_un_cadeau_=C3=A0=2E=2E=2E?=\n",
      "\n",
      "--===============5047306837111234450==\n",
      "\n",
      "--===============5047306837111234450==--\n",
      "\n",
      "Send mail to  Aurélie   Beynier\n",
      "Content-Type: multipart/mixed; boundary=\"===============2653169968923677303==\"\n",
      "MIME-Version: 1.0\n",
      "From: marvin.lasserre@gmail.com\n",
      "To: fanny.pascual@lip6.fr\n",
      "Subject: =?utf-8?q?=5BSecret_Santa=5D_Tu_dois_faire_un_cadeau_=C3=A0=2E=2E=2E?=\n",
      "\n",
      "--===============2653169968923677303==\n",
      "\n",
      "--===============2653169968923677303==--\n",
      "\n",
      "Send mail to  Fanny   Pascual\n"
     ]
    }
   ],
   "source": [
    "for index, row in name_list.iterrows():\n",
    "    #if row['First name'] != 'Marvin':\n",
    "        #continue\n",
    "    msg = MIMEMultipart() # create a message\n",
    "    \n",
    "    # setup the parameters of the message\n",
    "    msg['From'] = user_email\n",
    "    msg['To'] = row['Email address']\n",
    "    \n",
    "    # add in the actual person name to the message template\n",
    "    if row['Language'] == 'en':\n",
    "        custom_mail = en_mail.substitute(SANTA_NAME=row['First name'], RECIPIENT_NAME=row['To'])\n",
    "        msg['Subject'] = en_mail_subject\n",
    "    elif row['Language'] == 'fr':\n",
    "        custom_mail = fr_mail.substitute(SANTA_NAME=row['First name'], RECIPIENT_NAME=row['To'])\n",
    "        msg['Subject'] = fr_mail_subject\n",
    "        \n",
    "    print(msg)\n",
    "    \n",
    "    # add in the message body\n",
    "    msg.attach(MIMEText(custom_mail, 'plain'))\n",
    "        \n",
    "    # send the message via the server set up earlier.\n",
    "    #server.send_message(msg)\n",
    "    print(\"Send mail to \", row['First name'], ' ', row['Last name'])\n",
    "    del msg"
   ]
  },
  {
   "cell_type": "code",
   "execution_count": 27,
   "metadata": {},
   "outputs": [
    {
     "name": "stdout",
     "output_type": "stream",
     "text": [
      "Successfuly disconnected from server\n"
     ]
    }
   ],
   "source": [
    "try:\n",
    "    server.close()\n",
    "    print(\"Successfuly disconnected from server\")\n",
    "except:\n",
    "    print(\"Failed to disconnect from server\")"
   ]
  },
  {
   "cell_type": "code",
   "execution_count": null,
   "metadata": {},
   "outputs": [],
   "source": []
  }
 ],
 "metadata": {
  "kernelspec": {
   "display_name": "Python 3",
   "language": "python",
   "name": "python3"
  },
  "language_info": {
   "codemirror_mode": {
    "name": "ipython",
    "version": 3
   },
   "file_extension": ".py",
   "mimetype": "text/x-python",
   "name": "python",
   "nbconvert_exporter": "python",
   "pygments_lexer": "ipython3",
   "version": "3.6.9"
  }
 },
 "nbformat": 4,
 "nbformat_minor": 2
}
